{
 "cells": [
  {
   "cell_type": "code",
   "execution_count": 1,
   "metadata": {},
   "outputs": [],
   "source": [
    "import pandas as pd\n",
    "import plotly_express as px\n",
    "from sklearn.linear_model import LinearRegression\n",
    "import numpy as np\n",
    "from datetime import datetime, timedelta"
   ]
  },
  {
   "cell_type": "code",
   "execution_count": 2,
   "metadata": {},
   "outputs": [],
   "source": [
    "# Load the HTML table into a DataFrame\n",
    "trades = pd.read_html('./Statement.htm')\n",
    "df = trades[0].copy()  \n",
    "\n",
    "header_row_index = 2\n",
    "df.columns = df.iloc[header_row_index]\n",
    "\n",
    "# Remove the header row and rows above it\n",
    "df = df[header_row_index + 1:]\n",
    "\n",
    "# Drop unwanted columns without using inplace=True\n",
    "df = df.drop(['Ticket', 'Taxes'], axis=1)\n",
    "\n",
    "# Rename columns\n",
    "df.columns = ['Open Date', 'Type', 'Size', 'Asset', 'Open Price', 'Stop Loss', 'Take Profit', 'Close Date', 'Close Price', 'Commissions', 'Swap', 'PnL']\n",
    "\n",
    "# Filter rows based on 'Type'\n",
    "valid_trade_types = ['buy', 'sell', 'buy limit', 'sell limit', 'buy stop', 'sell stop']\n",
    "df = df[df['Type'].str.lower().isin(valid_trade_types)]\n",
    "\n",
    "# Filter out rows where 'PnL' equals 'cancelled'\n",
    "df = df[df['PnL'].str.lower() != 'cancelled']\n",
    "\n",
    "# Convert specific columns to float\n",
    "cols_to_float = ['Size', 'Open Price', 'Stop Loss', 'Take Profit', 'Close Price', 'Commissions', 'Swap', 'PnL']\n",
    "for col in cols_to_float:\n",
    "    df[col] = df[col].astype(str).str.replace(' ', '').astype(float)\n",
    "\n",
    "df['Open Date'] = pd.to_datetime(df['Open Date'], format='%Y.%m.%d %H:%M:%S')\n",
    "df['Close Date'] = pd.to_datetime(df['Close Date'], format='%Y.%m.%d %H:%M:%S')\n",
    "df = df.sort_values(by='Close Date', ascending=True)\n",
    "df['Rolling PnL'] = df['PnL'].cumsum()\n",
    "\n"
   ]
  },
  {
   "cell_type": "code",
   "execution_count": 3,
   "metadata": {},
   "outputs": [
    {
     "name": "stdout",
     "output_type": "stream",
     "text": [
      "     Future Close Date  Predicted Rolling PnL\n",
      "0  2023-12-30 14:56:11           12153.880574\n",
      "1  2023-12-31 14:56:11           12280.458758\n",
      "2  2024-01-01 14:56:11           12407.037628\n",
      "3  2024-01-02 14:56:11           12533.617182\n",
      "4  2024-01-03 14:56:11           12660.197422\n",
      "5  2024-01-04 14:56:11           12786.778347\n",
      "6  2024-01-05 14:56:11           12913.359958\n",
      "7  2024-01-06 14:56:11           13039.942253\n",
      "8  2024-01-07 14:56:11           13166.525234\n",
      "9  2024-01-08 14:56:11           13293.108900\n",
      "10 2024-01-09 14:56:11           13419.693252\n",
      "11 2024-01-10 14:56:11           13546.278288\n",
      "12 2024-01-11 14:56:11           13672.864010\n",
      "13 2024-01-12 14:56:11           13799.450417\n",
      "14 2024-01-13 14:56:11           13926.037509\n",
      "15 2024-01-14 14:56:11           14052.625287\n",
      "16 2024-01-15 14:56:11           14179.213749\n",
      "17 2024-01-16 14:56:11           14305.802897\n",
      "18 2024-01-17 14:56:11           14432.392731\n",
      "19 2024-01-18 14:56:11           14558.983249\n",
      "20 2024-01-19 14:56:11           14685.574453\n",
      "21 2024-01-20 14:56:11           14812.166342\n",
      "22 2024-01-21 14:56:11           14938.758916\n",
      "23 2024-01-22 14:56:11           15065.352176\n",
      "24 2024-01-23 14:56:11           15191.946120\n",
      "25 2024-01-24 14:56:11           15318.540751\n",
      "26 2024-01-25 14:56:11           15445.136066\n",
      "27 2024-01-26 14:56:11           15571.732066\n",
      "28 2024-01-27 14:56:11           15698.328752\n",
      "29 2024-01-28 14:56:11           15824.926123\n"
     ]
    },
    {
     "name": "stderr",
     "output_type": "stream",
     "text": [
      "c:\\Users\\saleg\\.virtualenvs\\Trade_Performance_Review-L_aLMsom\\Lib\\site-packages\\sklearn\\base.py:493: UserWarning: X does not have valid feature names, but PolynomialFeatures was fitted with feature names\n",
      "  warnings.warn(\n"
     ]
    }
   ],
   "source": [
    "from sklearn.preprocessing import PolynomialFeatures\n",
    "from sklearn.pipeline import make_pipeline\n",
    "from sklearn.linear_model import LinearRegression\n",
    "\n",
    "# Convert 'Close Date' to ordinal (numeric format)\n",
    "df['DateNumeric'] = pd.to_datetime(df['Close Date']).map(datetime.toordinal)\n",
    "\n",
    "# Prepare the dataset\n",
    "X = df[['DateNumeric']]\n",
    "y = df['Rolling PnL']\n",
    "\n",
    "# Create a polynomial regression model\n",
    "degree = 3  # You can adjust the degree\n",
    "polyreg = make_pipeline(PolynomialFeatures(degree), LinearRegression())\n",
    "polyreg.fit(X, y)\n",
    "\n",
    "# Predict future 'Rolling PnL' values\n",
    "num_days_to_predict = 30\n",
    "last_date = pd.to_datetime(df['Close Date']).max()\n",
    "future_dates = [last_date + timedelta(days=i) for i in range(1, num_days_to_predict + 1)]\n",
    "future_dates_numeric = [datetime.toordinal(date) for date in future_dates]\n",
    "\n",
    "# Make predictions\n",
    "future_predictions = polyreg.predict(np.array(future_dates_numeric).reshape(-1, 1))\n",
    "\n",
    "# Create a DataFrame for the predictions\n",
    "predictions_df = pd.DataFrame({'Future Close Date': future_dates, 'Predicted Rolling PnL': future_predictions})\n",
    "\n",
    "# Display the predictions\n",
    "print(predictions_df)\n"
   ]
  },
  {
   "cell_type": "code",
   "execution_count": 7,
   "metadata": {},
   "outputs": [
    {
     "data": {
      "text/plain": [
       "Index(['Open Date', 'Type', 'Size', 'Asset', 'Open Price', 'Stop Loss',\n",
       "       'Take Profit', 'Close Date', 'Close Price', 'Commissions', 'Swap',\n",
       "       'PnL', 'Rolling PnL', 'DateNumeric'],\n",
       "      dtype='object')"
      ]
     },
     "execution_count": 7,
     "metadata": {},
     "output_type": "execute_result"
    }
   ],
   "source": [
    "df.columns"
   ]
  },
  {
   "cell_type": "code",
   "execution_count": null,
   "metadata": {},
   "outputs": [],
   "source": [
    "df"
   ]
  },
  {
   "cell_type": "code",
   "execution_count": null,
   "metadata": {},
   "outputs": [],
   "source": []
  }
 ],
 "metadata": {
  "kernelspec": {
   "display_name": "Trade_Performance_Review-L_aLMsom",
   "language": "python",
   "name": "python3"
  },
  "language_info": {
   "codemirror_mode": {
    "name": "ipython",
    "version": 3
   },
   "file_extension": ".py",
   "mimetype": "text/x-python",
   "name": "python",
   "nbconvert_exporter": "python",
   "pygments_lexer": "ipython3",
   "version": "3.11.4"
  }
 },
 "nbformat": 4,
 "nbformat_minor": 2
}
