{
 "cells": [
  {
   "cell_type": "code",
   "execution_count": null,
   "metadata": {},
   "outputs": [],
   "source": [
    "import pandas as pd"
   ]
  },
  {
   "cell_type": "code",
   "execution_count": null,
   "metadata": {},
   "outputs": [],
   "source": [
    "trades = pd.read_html('./Statement.htm')\n",
    "df = trades[0]"
   ]
  },
  {
   "cell_type": "code",
   "execution_count": null,
   "metadata": {},
   "outputs": [],
   "source": [
    "# Checking where the header row starts\n",
    "for index, row in df.iterrows():\n",
    "    if row[0] == 'Ticket':\n",
    "        header_row_index = index\n",
    "        break\n"
   ]
  },
  {
   "cell_type": "code",
   "execution_count": null,
   "metadata": {},
   "outputs": [],
   "source": [
    "# Set header row\n",
    "new_header = df.iloc[header_row_index]\n",
    "df2 = df[header_row_index+1:]\n",
    "df2.columns = new_header\n",
    "df2.reset_index(drop=True, inplace=True)"
   ]
  },
  {
   "cell_type": "code",
   "execution_count": null,
   "metadata": {},
   "outputs": [],
   "source": []
  },
  {
   "cell_type": "code",
   "execution_count": null,
   "metadata": {},
   "outputs": [],
   "source": [
    "# Find the last row of trades and remove everything below it\n",
    "mask = df2[df2.columns[0:10]].isna().all(axis=1)\n",
    "first_nan_index = mask.idxmax() if mask.any() else len(df2)\n",
    "first_nan_index = mask.idxmax() if mask.any() else len(df2)\n",
    "df_final = df2.iloc[:first_nan_index]"
   ]
  },
  {
   "cell_type": "code",
   "execution_count": null,
   "metadata": {},
   "outputs": [],
   "source": [
    "# Remove deposits and withdrawals from df to get only pnl. \n",
    "df_deposit_withdrawal = df_final[df_final['Type'].str.lower().isin(['balance'])]\n",
    "df_final = df_final[~df_final['Type'].str.lower().isin(['balance'])]\n",
    "# Removed cancelled orders/trades\n",
    "df_final = df_final[df_final['Profit'].str.lower() != 'cancelled']\n",
    "\n"
   ]
  },
  {
   "cell_type": "code",
   "execution_count": null,
   "metadata": {},
   "outputs": [],
   "source": [
    "# Correct Dtypes for calculations later on. Also remove white spaces in Profit column.\n",
    "df_final['Ticket'] = df_final['Ticket'].astype(int)\n",
    "cols_to_float = ['Size', 'Price', 'S / L', 'T / P', 'Price', 'Commission', 'Taxes', 'Swap' ,'Profit']\n",
    "\n",
    "# Remove white spaces in Profit to convert from str to float\n",
    "for col in cols_to_float:\n",
    "    df_final[col] = df_final[col].replace(' ', '', regex=True).astype(float)\n",
    "\n",
    "conversion_dict = {col: float for col in cols_to_float}\n",
    "df = df_final.astype(conversion_dict)"
   ]
  },
  {
   "cell_type": "code",
   "execution_count": null,
   "metadata": {},
   "outputs": [],
   "source": []
  },
  {
   "cell_type": "code",
   "execution_count": null,
   "metadata": {},
   "outputs": [],
   "source": [
    "df_final.tail()"
   ]
  }
 ],
 "metadata": {
  "kernelspec": {
   "display_name": "Trade_Performance_Review-L_aLMsom",
   "language": "python",
   "name": "python3"
  },
  "language_info": {
   "codemirror_mode": {
    "name": "ipython",
    "version": 3
   },
   "file_extension": ".py",
   "mimetype": "text/x-python",
   "name": "python",
   "nbconvert_exporter": "python",
   "pygments_lexer": "ipython3",
   "version": "3.11.4"
  }
 },
 "nbformat": 4,
 "nbformat_minor": 2
}
