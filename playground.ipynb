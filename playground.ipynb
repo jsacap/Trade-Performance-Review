{
 "cells": [
  {
   "cell_type": "code",
   "execution_count": null,
   "metadata": {},
   "outputs": [],
   "source": [
    "import pandas as pd"
   ]
  },
  {
   "cell_type": "code",
   "execution_count": 3,
   "metadata": {},
   "outputs": [
    {
     "data": {
      "text/html": [
       "<div>\n",
       "<style scoped>\n",
       "    .dataframe tbody tr th:only-of-type {\n",
       "        vertical-align: middle;\n",
       "    }\n",
       "\n",
       "    .dataframe tbody tr th {\n",
       "        vertical-align: top;\n",
       "    }\n",
       "\n",
       "    .dataframe thead th {\n",
       "        text-align: right;\n",
       "    }\n",
       "</style>\n",
       "<table border=\"1\" class=\"dataframe\">\n",
       "  <thead>\n",
       "    <tr style=\"text-align: right;\">\n",
       "      <th></th>\n",
       "      <th>Open Time</th>\n",
       "      <th>Type</th>\n",
       "      <th>Size</th>\n",
       "      <th>Asset</th>\n",
       "      <th>Open Price</th>\n",
       "      <th>Stop Loss</th>\n",
       "      <th>Take Profit</th>\n",
       "      <th>Close Time</th>\n",
       "      <th>Close Price</th>\n",
       "      <th>Commissions</th>\n",
       "      <th>Swap</th>\n",
       "      <th>PnL</th>\n",
       "    </tr>\n",
       "  </thead>\n",
       "  <tbody>\n",
       "    <tr>\n",
       "      <th>126</th>\n",
       "      <td>2023.09.12 01:34:54</td>\n",
       "      <td>sell</td>\n",
       "      <td>5.55</td>\n",
       "      <td>usdcad</td>\n",
       "      <td>1.35746</td>\n",
       "      <td>1.35986</td>\n",
       "      <td>1.35310</td>\n",
       "      <td>2023.09.12 05:04:15</td>\n",
       "      <td>1.35903</td>\n",
       "      <td>-27.75</td>\n",
       "      <td>0.00</td>\n",
       "      <td>-641.16</td>\n",
       "    </tr>\n",
       "    <tr>\n",
       "      <th>127</th>\n",
       "      <td>2023.09.11 23:37:48</td>\n",
       "      <td>sell</td>\n",
       "      <td>4.41</td>\n",
       "      <td>audusd</td>\n",
       "      <td>0.64307</td>\n",
       "      <td>0.64308</td>\n",
       "      <td>0.64000</td>\n",
       "      <td>2023.09.13 02:47:14</td>\n",
       "      <td>0.64309</td>\n",
       "      <td>-14.18</td>\n",
       "      <td>1.76</td>\n",
       "      <td>-8.82</td>\n",
       "    </tr>\n",
       "    <tr>\n",
       "      <th>128</th>\n",
       "      <td>2023.09.08 13:02:36</td>\n",
       "      <td>buy</td>\n",
       "      <td>4.40</td>\n",
       "      <td>nzdusd</td>\n",
       "      <td>0.59117</td>\n",
       "      <td>0.58891</td>\n",
       "      <td>0.59393</td>\n",
       "      <td>2023.09.08 19:30:36</td>\n",
       "      <td>0.58890</td>\n",
       "      <td>-13.01</td>\n",
       "      <td>0.00</td>\n",
       "      <td>-998.80</td>\n",
       "    </tr>\n",
       "    <tr>\n",
       "      <th>129</th>\n",
       "      <td>2023.09.08 09:03:09</td>\n",
       "      <td>sell</td>\n",
       "      <td>4.20</td>\n",
       "      <td>usdjpy</td>\n",
       "      <td>147.17800</td>\n",
       "      <td>147.52800</td>\n",
       "      <td>146.15900</td>\n",
       "      <td>2023.09.08 15:59:02</td>\n",
       "      <td>147.53100</td>\n",
       "      <td>-21.00</td>\n",
       "      <td>0.00</td>\n",
       "      <td>-1004.94</td>\n",
       "    </tr>\n",
       "    <tr>\n",
       "      <th>135</th>\n",
       "      <td>2024.01.19 02:30:38</td>\n",
       "      <td>sell</td>\n",
       "      <td>4.95</td>\n",
       "      <td>audusd</td>\n",
       "      <td>0.65877</td>\n",
       "      <td>0.66067</td>\n",
       "      <td>0.65610</td>\n",
       "      <td>NaN</td>\n",
       "      <td>0.65836</td>\n",
       "      <td>-16.30</td>\n",
       "      <td>0.00</td>\n",
       "      <td>202.95</td>\n",
       "    </tr>\n",
       "  </tbody>\n",
       "</table>\n",
       "</div>"
      ],
      "text/plain": [
       "               Open Time  Type  Size   Asset  Open Price  Stop Loss  \\\n",
       "126  2023.09.12 01:34:54  sell  5.55  usdcad     1.35746    1.35986   \n",
       "127  2023.09.11 23:37:48  sell  4.41  audusd     0.64307    0.64308   \n",
       "128  2023.09.08 13:02:36   buy  4.40  nzdusd     0.59117    0.58891   \n",
       "129  2023.09.08 09:03:09  sell  4.20  usdjpy   147.17800  147.52800   \n",
       "135  2024.01.19 02:30:38  sell  4.95  audusd     0.65877    0.66067   \n",
       "\n",
       "     Take Profit           Close Time  Close Price  Commissions  Swap      PnL  \n",
       "126      1.35310  2023.09.12 05:04:15      1.35903       -27.75  0.00  -641.16  \n",
       "127      0.64000  2023.09.13 02:47:14      0.64309       -14.18  1.76    -8.82  \n",
       "128      0.59393  2023.09.08 19:30:36      0.58890       -13.01  0.00  -998.80  \n",
       "129    146.15900  2023.09.08 15:59:02    147.53100       -21.00  0.00 -1004.94  \n",
       "135      0.65610                  NaN      0.65836       -16.30  0.00   202.95  "
      ]
     },
     "execution_count": 3,
     "metadata": {},
     "output_type": "execute_result"
    }
   ],
   "source": [
    "# Load the HTML table into a DataFrame\n",
    "trades = pd.read_html('./Statement.htm')\n",
    "df = trades[0].copy()  # Make a copy if it's a slice from another DataFrame\n",
    "\n",
    "# Set new column headers using a specific row from the DataFrame\n",
    "header_row_index = 2\n",
    "df.columns = df.iloc[header_row_index]\n",
    "\n",
    "# Remove the header row and rows above it\n",
    "df = df[header_row_index + 1:]\n",
    "\n",
    "# Drop unwanted columns without using inplace=True\n",
    "df = df.drop(['Ticket', 'Taxes'], axis=1)\n",
    "\n",
    "# Rename columns\n",
    "df.columns = ['Open Time', 'Type', 'Size', 'Asset', 'Open Price', 'Stop Loss', 'Take Profit', 'Close Time', 'Close Price', 'Commissions', 'Swap', 'PnL']\n",
    "\n",
    "# Filter rows based on 'Type'\n",
    "valid_trade_types = ['buy', 'sell', 'buy limit', 'sell limit', 'buy stop', 'sell stop']\n",
    "df = df[df['Type'].str.lower().isin(valid_trade_types)]\n",
    "\n",
    "# Filter out rows where 'PnL' equals 'cancelled'\n",
    "df = df[df['PnL'].str.lower() != 'cancelled']\n",
    "\n",
    "# Convert specific columns to float\n",
    "cols_to_float = ['Size', 'Open Price', 'Stop Loss', 'Take Profit', 'Close Price', 'Commissions', 'Swap', 'PnL']\n",
    "for col in cols_to_float:\n",
    "    df[col] = df[col].astype(str).str.replace(' ', '').astype(float)\n",
    "\n",
    "# View the last few rows of the DataFrame\n",
    "df.tail()\n"
   ]
  },
  {
   "cell_type": "code",
   "execution_count": null,
   "metadata": {},
   "outputs": [],
   "source": [
    "# Checking where the header row starts\n",
    "for index, row in df.iterrows():\n",
    "    if row[0] == 'Ticket':\n",
    "        header_row_index = index\n",
    "        break\n"
   ]
  },
  {
   "cell_type": "code",
   "execution_count": null,
   "metadata": {},
   "outputs": [],
   "source": [
    "# Set header row\n",
    "new_header = df.iloc[header_row_index]\n",
    "df2 = df[header_row_index+1:]\n",
    "df2.columns = new_header\n",
    "df2.reset_index(drop=True, inplace=True)"
   ]
  },
  {
   "cell_type": "code",
   "execution_count": null,
   "metadata": {},
   "outputs": [],
   "source": []
  },
  {
   "cell_type": "code",
   "execution_count": null,
   "metadata": {},
   "outputs": [],
   "source": [
    "# Find the last row of trades and remove everything below it\n",
    "mask = df2[df2.columns[0:10]].isna().all(axis=1)\n",
    "first_nan_index = mask.idxmax() if mask.any() else len(df2)\n",
    "first_nan_index = mask.idxmax() if mask.any() else len(df2)\n",
    "df_final = df2.iloc[:first_nan_index]"
   ]
  },
  {
   "cell_type": "code",
   "execution_count": null,
   "metadata": {},
   "outputs": [],
   "source": [
    "# Remove deposits and withdrawals from df to get only pnl. \n",
    "df_deposit_withdrawal = df_final[df_final['Type'].str.lower().isin(['balance'])]\n",
    "df_final = df_final[~df_final['Type'].str.lower().isin(['balance'])]\n",
    "# Removed cancelled orders/trades\n",
    "df_final = df_final[df_final['Profit'].str.lower() != 'cancelled']\n",
    "\n"
   ]
  },
  {
   "cell_type": "code",
   "execution_count": null,
   "metadata": {},
   "outputs": [],
   "source": [
    "# Correct Dtypes for calculations later on. Also remove white spaces in Profit column.\n",
    "df_final['Ticket'] = df_final['Ticket'].astype(int)\n",
    "cols_to_float = ['Size', 'Price', 'S / L', 'T / P', 'Price', 'Commission', 'Taxes', 'Swap' ,'Profit']\n",
    "\n",
    "# Remove white spaces in Profit to convert from str to float\n",
    "for col in cols_to_float:\n",
    "    df_final[col] = df_final[col].replace(' ', '', regex=True).astype(float)\n",
    "\n",
    "conversion_dict = {col: float for col in cols_to_float}\n",
    "df = df_final.astype(conversion_dict)"
   ]
  },
  {
   "cell_type": "code",
   "execution_count": null,
   "metadata": {},
   "outputs": [],
   "source": [
    "df"
   ]
  },
  {
   "cell_type": "code",
   "execution_count": null,
   "metadata": {},
   "outputs": [],
   "source": [
    "df_final.tail()"
   ]
  }
 ],
 "metadata": {
  "kernelspec": {
   "display_name": "Trade_Performance_Review-L_aLMsom",
   "language": "python",
   "name": "python3"
  },
  "language_info": {
   "codemirror_mode": {
    "name": "ipython",
    "version": 3
   },
   "file_extension": ".py",
   "mimetype": "text/x-python",
   "name": "python",
   "nbconvert_exporter": "python",
   "pygments_lexer": "ipython3",
   "version": "3.11.4"
  }
 },
 "nbformat": 4,
 "nbformat_minor": 2
}
