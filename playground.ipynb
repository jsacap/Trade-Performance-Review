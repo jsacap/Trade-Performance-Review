{
 "cells": [
  {
   "cell_type": "code",
   "execution_count": 1,
   "metadata": {},
   "outputs": [],
   "source": [
    "import pandas as pd\n",
    "import plotly_express as px"
   ]
  },
  {
   "cell_type": "code",
   "execution_count": 2,
   "metadata": {},
   "outputs": [],
   "source": [
    "# Load the HTML table into a DataFrame\n",
    "trades = pd.read_html('./Statement.htm')\n",
    "df = trades[0].copy()  \n",
    "\n",
    "header_row_index = 2\n",
    "df.columns = df.iloc[header_row_index]\n",
    "\n",
    "# Remove the header row and rows above it\n",
    "df = df[header_row_index + 1:]\n",
    "\n",
    "# Drop unwanted columns without using inplace=True\n",
    "df = df.drop(['Ticket', 'Taxes'], axis=1)\n",
    "\n",
    "# Rename columns\n",
    "df.columns = ['Open Date', 'Type', 'Size', 'Asset', 'Open Price', 'Stop Loss', 'Take Profit', 'Close Date', 'Close Price', 'Commissions', 'Swap', 'PnL']\n",
    "\n",
    "# Filter rows based on 'Type'\n",
    "valid_trade_types = ['buy', 'sell', 'buy limit', 'sell limit', 'buy stop', 'sell stop']\n",
    "df = df[df['Type'].str.lower().isin(valid_trade_types)]\n",
    "\n",
    "# Filter out rows where 'PnL' equals 'cancelled'\n",
    "df = df[df['PnL'].str.lower() != 'cancelled']\n",
    "\n",
    "# Convert specific columns to float\n",
    "cols_to_float = ['Size', 'Open Price', 'Stop Loss', 'Take Profit', 'Close Price', 'Commissions', 'Swap', 'PnL']\n",
    "for col in cols_to_float:\n",
    "    df[col] = df[col].astype(str).str.replace(' ', '').astype(float)\n",
    "\n",
    "df['Open Date'] = pd.to_datetime(df['Open Date'], format='%Y.%m.%d %H:%M:%S')\n",
    "df['Close Date'] = pd.to_datetime(df['Close Date'], format='%Y.%m.%d %H:%M:%S')\n",
    "df = df.sort_values(by='Close Date', ascending=True)\n",
    "df['Rolling PnL'] = df['PnL'].cumsum()\n",
    "\n"
   ]
  },
  {
   "cell_type": "code",
   "execution_count": 15,
   "metadata": {},
   "outputs": [],
   "source": [
    "negative_df = df[df['PnL'] < 0]\n",
    "positive_df = df[df['PnL'] > 0]"
   ]
  },
  {
   "cell_type": "code",
   "execution_count": 22,
   "metadata": {},
   "outputs": [],
   "source": [
    "time_differences_negative = negative_df['Close Date'] - negative_df['Open Date']\n",
    "time_differences_positive = positive_df['Close Date'] - positive_df['Open Date']\n",
    "average_time_positive = time_differences_positive.mean()\n"
   ]
  },
  {
   "cell_type": "code",
   "execution_count": 24,
   "metadata": {},
   "outputs": [
    {
     "data": {
      "text/plain": [
       "Timedelta('0 days 10:25:05.583333333')"
      ]
     },
     "execution_count": 24,
     "metadata": {},
     "output_type": "execute_result"
    }
   ],
   "source": []
  }
 ],
 "metadata": {
  "kernelspec": {
   "display_name": "Trade_Performance_Review-L_aLMsom",
   "language": "python",
   "name": "python3"
  },
  "language_info": {
   "codemirror_mode": {
    "name": "ipython",
    "version": 3
   },
   "file_extension": ".py",
   "mimetype": "text/x-python",
   "name": "python",
   "nbconvert_exporter": "python",
   "pygments_lexer": "ipython3",
   "version": "3.11.4"
  }
 },
 "nbformat": 4,
 "nbformat_minor": 2
}
